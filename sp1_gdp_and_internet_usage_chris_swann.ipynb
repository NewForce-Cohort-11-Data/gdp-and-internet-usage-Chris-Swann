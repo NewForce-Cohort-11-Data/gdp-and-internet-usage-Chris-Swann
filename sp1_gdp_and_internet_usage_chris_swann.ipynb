{
 "cells": [
  {
   "cell_type": "code",
   "execution_count": 1,
   "id": "9596bbba-10c0-4b41-ac44-71cee372f64a",
   "metadata": {},
   "outputs": [],
   "source": [
    "import pandas as pd\n",
    "import numpy as np\n",
    "import matplotlib.pyplot as plt\n",
    "import seaborn as sns\n",
    "import os"
   ]
  },
  {
   "cell_type": "code",
   "execution_count": 17,
   "id": "8aa5a5ac-2d61-40d8-b480-97b0a20d0696",
   "metadata": {},
   "outputs": [
    {
     "data": {
      "text/plain": [
       "'C:\\\\Users\\\\user\\\\workspace\\\\c11\\\\Python\\\\Notebooks\\\\gdp-and-internet-usage-Chris-Swann'"
      ]
     },
     "execution_count": 17,
     "metadata": {},
     "output_type": "execute_result"
    }
   ],
   "source": [
    "os.getcwd()"
   ]
  },
  {
   "cell_type": "code",
   "execution_count": 18,
   "id": "b79f6ef0-1358-47a9-ae78-064d53aa469b",
   "metadata": {},
   "outputs": [
    {
     "data": {
      "text/plain": [
       "['gdp_percapita.csv', 'internet_use.csv', 'schools_clean.csv']"
      ]
     },
     "execution_count": 18,
     "metadata": {},
     "output_type": "execute_result"
    }
   ],
   "source": [
    "os.listdir(\"../../data/\")"
   ]
  },
  {
   "cell_type": "code",
   "execution_count": 15,
   "id": "fd2e0d9c-d0fc-41ca-8249-2bb346e336c7",
   "metadata": {},
   "outputs": [],
   "source": [
    "gdp_df = pd.read_csv('../../data/gdp_percapita.csv')"
   ]
  },
  {
   "cell_type": "code",
   "execution_count": 19,
   "id": "ae71ba7b-c33f-49e0-8f58-05be21592b04",
   "metadata": {},
   "outputs": [
    {
     "data": {
      "text/html": [
       "<div>\n",
       "<style scoped>\n",
       "    .dataframe tbody tr th:only-of-type {\n",
       "        vertical-align: middle;\n",
       "    }\n",
       "\n",
       "    .dataframe tbody tr th {\n",
       "        vertical-align: top;\n",
       "    }\n",
       "\n",
       "    .dataframe thead th {\n",
       "        text-align: right;\n",
       "    }\n",
       "</style>\n",
       "<table border=\"1\" class=\"dataframe\">\n",
       "  <thead>\n",
       "    <tr style=\"text-align: right;\">\n",
       "      <th></th>\n",
       "      <th>Country or Area</th>\n",
       "      <th>Year</th>\n",
       "      <th>Value</th>\n",
       "      <th>Value Footnotes</th>\n",
       "    </tr>\n",
       "  </thead>\n",
       "  <tbody>\n",
       "    <tr>\n",
       "      <th>0</th>\n",
       "      <td>Afghanistan</td>\n",
       "      <td>2023</td>\n",
       "      <td>1992.424394</td>\n",
       "      <td>NaN</td>\n",
       "    </tr>\n",
       "    <tr>\n",
       "      <th>1</th>\n",
       "      <td>Afghanistan</td>\n",
       "      <td>2022</td>\n",
       "      <td>1981.710168</td>\n",
       "      <td>NaN</td>\n",
       "    </tr>\n",
       "    <tr>\n",
       "      <th>2</th>\n",
       "      <td>Afghanistan</td>\n",
       "      <td>2021</td>\n",
       "      <td>2144.166570</td>\n",
       "      <td>NaN</td>\n",
       "    </tr>\n",
       "    <tr>\n",
       "      <th>3</th>\n",
       "      <td>Afghanistan</td>\n",
       "      <td>2020</td>\n",
       "      <td>2769.685745</td>\n",
       "      <td>NaN</td>\n",
       "    </tr>\n",
       "    <tr>\n",
       "      <th>4</th>\n",
       "      <td>Afghanistan</td>\n",
       "      <td>2019</td>\n",
       "      <td>2927.245144</td>\n",
       "      <td>NaN</td>\n",
       "    </tr>\n",
       "  </tbody>\n",
       "</table>\n",
       "</div>"
      ],
      "text/plain": [
       "  Country or Area  Year        Value  Value Footnotes\n",
       "0     Afghanistan  2023  1992.424394              NaN\n",
       "1     Afghanistan  2022  1981.710168              NaN\n",
       "2     Afghanistan  2021  2144.166570              NaN\n",
       "3     Afghanistan  2020  2769.685745              NaN\n",
       "4     Afghanistan  2019  2927.245144              NaN"
      ]
     },
     "execution_count": 19,
     "metadata": {},
     "output_type": "execute_result"
    }
   ],
   "source": [
    "gdp_df.head()"
   ]
  },
  {
   "cell_type": "code",
   "execution_count": 20,
   "id": "f373eb5f-00af-4260-af23-60a3a690d4d4",
   "metadata": {},
   "outputs": [
    {
     "data": {
      "text/plain": [
       "(8219, 4)"
      ]
     },
     "execution_count": 20,
     "metadata": {},
     "output_type": "execute_result"
    }
   ],
   "source": [
    "gdp_df.shape"
   ]
  },
  {
   "cell_type": "code",
   "execution_count": 21,
   "id": "00e8375d-e6db-4967-82a7-8c9ddd1f1a8f",
   "metadata": {},
   "outputs": [
    {
     "name": "stdout",
     "output_type": "stream",
     "text": [
      "<class 'pandas.core.frame.DataFrame'>\n",
      "RangeIndex: 8219 entries, 0 to 8218\n",
      "Data columns (total 4 columns):\n",
      " #   Column           Non-Null Count  Dtype  \n",
      "---  ------           --------------  -----  \n",
      " 0   Country or Area  8219 non-null   object \n",
      " 1   Year             8219 non-null   int64  \n",
      " 2   Value            8219 non-null   float64\n",
      " 3   Value Footnotes  0 non-null      float64\n",
      "dtypes: float64(2), int64(1), object(1)\n",
      "memory usage: 257.0+ KB\n"
     ]
    }
   ],
   "source": [
    "gdp_df.info()"
   ]
  },
  {
   "cell_type": "code",
   "execution_count": 14,
   "id": "495baf5b-c5be-40d5-99fe-3ffa7d504dd3",
   "metadata": {},
   "outputs": [
    {
     "data": {
      "text/plain": [
       "Index(['Country or Area', 'Year', 'Value', 'Value Footnotes'], dtype='object')"
      ]
     },
     "execution_count": 14,
     "metadata": {},
     "output_type": "execute_result"
    }
   ],
   "source": [
    "gdp_df.columns"
   ]
  },
  {
   "cell_type": "code",
   "execution_count": 15,
   "id": "cb605839-4c30-40c7-841f-63bb1fe221d5",
   "metadata": {},
   "outputs": [],
   "source": [
    "gdp_df = gdp_df.drop(columns = ['Value Footnotes'])\n",
    "gdp_df.columns = ['Country', 'Year', 'GDP_Per_Capita']"
   ]
  },
  {
   "cell_type": "code",
   "execution_count": 16,
   "id": "62fe93f6-9547-4536-8235-348cabe573bc",
   "metadata": {},
   "outputs": [
    {
     "data": {
      "text/html": [
       "<div>\n",
       "<style scoped>\n",
       "    .dataframe tbody tr th:only-of-type {\n",
       "        vertical-align: middle;\n",
       "    }\n",
       "\n",
       "    .dataframe tbody tr th {\n",
       "        vertical-align: top;\n",
       "    }\n",
       "\n",
       "    .dataframe thead th {\n",
       "        text-align: right;\n",
       "    }\n",
       "</style>\n",
       "<table border=\"1\" class=\"dataframe\">\n",
       "  <thead>\n",
       "    <tr style=\"text-align: right;\">\n",
       "      <th></th>\n",
       "      <th>Country</th>\n",
       "      <th>Year</th>\n",
       "      <th>GDP_Per_Capita</th>\n",
       "    </tr>\n",
       "  </thead>\n",
       "  <tbody>\n",
       "    <tr>\n",
       "      <th>0</th>\n",
       "      <td>Afghanistan</td>\n",
       "      <td>2023</td>\n",
       "      <td>1992.424394</td>\n",
       "    </tr>\n",
       "    <tr>\n",
       "      <th>1</th>\n",
       "      <td>Afghanistan</td>\n",
       "      <td>2022</td>\n",
       "      <td>1981.710168</td>\n",
       "    </tr>\n",
       "    <tr>\n",
       "      <th>2</th>\n",
       "      <td>Afghanistan</td>\n",
       "      <td>2021</td>\n",
       "      <td>2144.166570</td>\n",
       "    </tr>\n",
       "    <tr>\n",
       "      <th>3</th>\n",
       "      <td>Afghanistan</td>\n",
       "      <td>2020</td>\n",
       "      <td>2769.685745</td>\n",
       "    </tr>\n",
       "    <tr>\n",
       "      <th>4</th>\n",
       "      <td>Afghanistan</td>\n",
       "      <td>2019</td>\n",
       "      <td>2927.245144</td>\n",
       "    </tr>\n",
       "  </tbody>\n",
       "</table>\n",
       "</div>"
      ],
      "text/plain": [
       "       Country  Year  GDP_Per_Capita\n",
       "0  Afghanistan  2023     1992.424394\n",
       "1  Afghanistan  2022     1981.710168\n",
       "2  Afghanistan  2021     2144.166570\n",
       "3  Afghanistan  2020     2769.685745\n",
       "4  Afghanistan  2019     2927.245144"
      ]
     },
     "execution_count": 16,
     "metadata": {},
     "output_type": "execute_result"
    }
   ],
   "source": [
    "gdp_df.head()"
   ]
  },
  {
   "cell_type": "code",
   "execution_count": 19,
   "id": "16dabb4a-de0b-405e-8b61-b7cbf29bfc17",
   "metadata": {},
   "outputs": [],
   "source": [
    "total_years = gdp_df['Year'].nunique()"
   ]
  },
  {
   "cell_type": "code",
   "execution_count": 25,
   "id": "32a15ffc-8acc-41a3-bcf5-423a19509956",
   "metadata": {},
   "outputs": [
    {
     "data": {
      "text/plain": [
       "Country\n",
       "Afghanistan                    24\n",
       "Africa Eastern and Southern    34\n",
       "Africa Western and Central     34\n",
       "Albania                        34\n",
       "Algeria                        34\n",
       "                               ..\n",
       "Virgin Islands                 21\n",
       "West Bank and Gaza             30\n",
       "World                          34\n",
       "Zambia                         34\n",
       "Zimbabwe                       34\n",
       "Name: Year, Length: 247, dtype: int64"
      ]
     },
     "execution_count": 25,
     "metadata": {},
     "output_type": "execute_result"
    }
   ],
   "source": [
    "years_per_country = gdp_df.groupby('Country')['Year'].nunique()\n",
    "years_per_country"
   ]
  },
  {
   "cell_type": "code",
   "execution_count": null,
   "id": "e30f632a-8c7b-4ce4-a75d-17a27656cb93",
   "metadata": {},
   "outputs": [],
   "source": [
    "complete_countries = years_per_country[years_per_country == total_years]"
   ]
  },
  {
   "cell_type": "code",
   "execution_count": 21,
   "id": "71962993-47e2-4cba-b439-03b9357a6182",
   "metadata": {},
   "outputs": [
    {
     "data": {
      "text/plain": [
       "228"
      ]
     },
     "execution_count": 21,
     "metadata": {},
     "output_type": "execute_result"
    }
   ],
   "source": [
    "len(complete_countries)"
   ]
  },
  {
   "cell_type": "code",
   "execution_count": 23,
   "id": "ad073c0a-c7c2-45e9-9eba-f65ef3eb7ca1",
   "metadata": {},
   "outputs": [
    {
     "data": {
      "text/plain": [
       "['Africa Eastern and Southern',\n",
       " 'Africa Western and Central',\n",
       " 'Albania',\n",
       " 'Algeria',\n",
       " 'Andorra',\n",
       " 'Angola',\n",
       " 'Antigua and Barbuda',\n",
       " 'Arab World',\n",
       " 'Argentina',\n",
       " 'Armenia',\n",
       " 'Aruba',\n",
       " 'Australia',\n",
       " 'Austria',\n",
       " 'Azerbaijan',\n",
       " 'Bahrain',\n",
       " 'Bangladesh',\n",
       " 'Barbados',\n",
       " 'Belarus',\n",
       " 'Belgium',\n",
       " 'Belize',\n",
       " 'Benin',\n",
       " 'Bermuda',\n",
       " 'Bolivia',\n",
       " 'Bosnia and Herzegovina',\n",
       " 'Botswana',\n",
       " 'Brazil',\n",
       " 'Brunei',\n",
       " 'Bulgaria',\n",
       " 'Burkina Faso',\n",
       " 'Burundi',\n",
       " 'Cabo Verde',\n",
       " 'Cambodia',\n",
       " 'Cameroon',\n",
       " 'Canada',\n",
       " 'Caribbean small states',\n",
       " 'Central African Republic',\n",
       " 'Central Europe and the Baltics',\n",
       " 'Chad',\n",
       " 'Chile',\n",
       " 'China',\n",
       " 'Colombia',\n",
       " 'Comoros',\n",
       " 'Congo',\n",
       " 'Costa Rica',\n",
       " 'Croatia',\n",
       " 'Cyprus',\n",
       " 'Czechia',\n",
       " \"CÃ´te d'Ivoire\",\n",
       " 'Dem. Rep. Congo',\n",
       " 'Denmark',\n",
       " 'Dominica',\n",
       " 'Dominican Republic',\n",
       " 'Early-demographic dividend',\n",
       " 'East Asia & Pacific',\n",
       " 'East Asia & Pacific (IDA & IBRD)',\n",
       " 'East Asia & Pacific (excluding high income)',\n",
       " 'Ecuador',\n",
       " 'Egypt',\n",
       " 'El Salvador',\n",
       " 'Equatorial Guinea',\n",
       " 'Estonia',\n",
       " 'Eswatini',\n",
       " 'Ethiopia',\n",
       " 'Euro area',\n",
       " 'Europe & Central Asia',\n",
       " 'Europe & Central Asia (IDA & IBRD)',\n",
       " 'Europe & Central Asia (excluding high income)',\n",
       " 'European Union',\n",
       " 'Fiji',\n",
       " 'Finland',\n",
       " 'Fragile and conflict affected situations',\n",
       " 'France',\n",
       " 'Gabon',\n",
       " 'Georgia',\n",
       " 'Germany',\n",
       " 'Ghana',\n",
       " 'Greece',\n",
       " 'Grenada',\n",
       " 'Guatemala',\n",
       " 'Guinea',\n",
       " 'Guinea-Bissau',\n",
       " 'Guyana',\n",
       " 'Haiti',\n",
       " 'Heavily indebted poor countries (HIPC)',\n",
       " 'High income',\n",
       " 'Honduras',\n",
       " 'Hong Kong SAR, China',\n",
       " 'Hungary',\n",
       " 'IBRD only',\n",
       " 'IDA & IBRD total',\n",
       " 'IDA blend',\n",
       " 'IDA only',\n",
       " 'IDA total',\n",
       " 'Iceland',\n",
       " 'India',\n",
       " 'Indonesia',\n",
       " 'Iran',\n",
       " 'Iraq',\n",
       " 'Ireland',\n",
       " 'Israel',\n",
       " 'Italy',\n",
       " 'Jamaica',\n",
       " 'Japan',\n",
       " 'Jordan',\n",
       " 'Kazakhstan',\n",
       " 'Kenya',\n",
       " 'Kiribati',\n",
       " 'Korea',\n",
       " 'Kuwait',\n",
       " 'Kyrgyz Republic',\n",
       " 'Lao PDR',\n",
       " 'Late-demographic dividend',\n",
       " 'Latin America & Caribbean',\n",
       " 'Latin America & Caribbean (IDA & IBRD)',\n",
       " 'Latin America & Caribbean (excluding high income)',\n",
       " 'Latvia',\n",
       " 'Least developed countries: UN classification',\n",
       " 'Lesotho',\n",
       " 'Liberia',\n",
       " 'Libya',\n",
       " 'Lithuania',\n",
       " 'Low & middle income',\n",
       " 'Low income',\n",
       " 'Lower middle income',\n",
       " 'Luxembourg',\n",
       " 'Macao SAR, China',\n",
       " 'Madagascar',\n",
       " 'Malawi',\n",
       " 'Malaysia',\n",
       " 'Maldives',\n",
       " 'Mali',\n",
       " 'Malta',\n",
       " 'Marshall Islands',\n",
       " 'Mauritania',\n",
       " 'Mauritius',\n",
       " 'Mexico',\n",
       " 'Micronesia',\n",
       " 'Middle East & North Africa',\n",
       " 'Middle East & North Africa (IDA & IBRD)',\n",
       " 'Middle East & North Africa (excluding high income)',\n",
       " 'Middle income',\n",
       " 'Moldova',\n",
       " 'Mongolia',\n",
       " 'Morocco',\n",
       " 'Mozambique',\n",
       " 'Myanmar',\n",
       " 'Namibia',\n",
       " 'Nauru',\n",
       " 'Nepal',\n",
       " 'Netherlands',\n",
       " 'New Zealand',\n",
       " 'Nicaragua',\n",
       " 'Niger',\n",
       " 'Nigeria',\n",
       " 'North America',\n",
       " 'North Macedonia',\n",
       " 'Norway',\n",
       " 'OECD members',\n",
       " 'Oman',\n",
       " 'Other small states',\n",
       " 'Pacific island small states',\n",
       " 'Pakistan',\n",
       " 'Palau',\n",
       " 'Panama',\n",
       " 'Papua New Guinea',\n",
       " 'Paraguay',\n",
       " 'Peru',\n",
       " 'Philippines',\n",
       " 'Poland',\n",
       " 'Portugal',\n",
       " 'Post-demographic dividend',\n",
       " 'Pre-demographic dividend',\n",
       " 'Puerto Rico',\n",
       " 'Qatar',\n",
       " 'Romania',\n",
       " 'Russia',\n",
       " 'Rwanda',\n",
       " 'Samoa',\n",
       " 'Saudi Arabia',\n",
       " 'Senegal',\n",
       " 'Seychelles',\n",
       " 'Sierra Leone',\n",
       " 'Singapore',\n",
       " 'Slovak Republic',\n",
       " 'Slovenia',\n",
       " 'Small states',\n",
       " 'Solomon Islands',\n",
       " 'South Africa',\n",
       " 'South Asia',\n",
       " 'South Asia (IDA & IBRD)',\n",
       " 'Spain',\n",
       " 'Sri Lanka',\n",
       " 'St. Kitts and Nevis',\n",
       " 'St. Lucia',\n",
       " 'St. Vincent and the Grenadines',\n",
       " 'Sub-Saharan Africa',\n",
       " 'Sub-Saharan Africa (IDA & IBRD)',\n",
       " 'Sub-Saharan Africa (excluding high income)',\n",
       " 'Sudan',\n",
       " 'Suriname',\n",
       " 'Sweden',\n",
       " 'Switzerland',\n",
       " 'SÃ£o TomÃ© and Principe',\n",
       " 'Tajikistan',\n",
       " 'Tanzania',\n",
       " 'Thailand',\n",
       " 'The Bahamas',\n",
       " 'The Gambia',\n",
       " 'Timor-Leste',\n",
       " 'Togo',\n",
       " 'Trinidad and Tobago',\n",
       " 'Tunisia',\n",
       " 'Turkmenistan',\n",
       " 'Tuvalu',\n",
       " 'TÃ¼rkiye',\n",
       " 'Uganda',\n",
       " 'Ukraine',\n",
       " 'United Arab Emirates',\n",
       " 'United Kingdom',\n",
       " 'United States',\n",
       " 'Upper middle income',\n",
       " 'Uruguay',\n",
       " 'Uzbekistan',\n",
       " 'Vanuatu',\n",
       " 'Viet Nam',\n",
       " 'World',\n",
       " 'Zambia',\n",
       " 'Zimbabwe']"
      ]
     },
     "execution_count": 23,
     "metadata": {},
     "output_type": "execute_result"
    }
   ],
   "source": [
    "complete_countries.index.tolist()"
   ]
  },
  {
   "cell_type": "code",
   "execution_count": 28,
   "id": "d15ece4c-2513-4b79-89d0-05b13b1673a7",
   "metadata": {},
   "outputs": [
    {
     "data": {
      "text/plain": [
       "Country\n",
       "Afghanistan                    10\n",
       "Africa Eastern and Southern     0\n",
       "Africa Western and Central      0\n",
       "Albania                         0\n",
       "Algeria                         0\n",
       "                               ..\n",
       "Virgin Islands                 13\n",
       "West Bank and Gaza              4\n",
       "World                           0\n",
       "Zambia                          0\n",
       "Zimbabwe                        0\n",
       "Name: Year, Length: 247, dtype: int64"
      ]
     },
     "execution_count": 28,
     "metadata": {},
     "output_type": "execute_result"
    }
   ],
   "source": [
    "missing_years = total_years - years_per_country\n",
    "missing_years"
   ]
  },
  {
   "cell_type": "code",
   "execution_count": 29,
   "id": "03a65b2a-aad8-4108-86d3-b0700077004d",
   "metadata": {},
   "outputs": [],
   "source": [
    "countries_missing_many = missing_years.sort_values(ascending = False)"
   ]
  },
  {
   "cell_type": "code",
   "execution_count": 30,
   "id": "a096caed-cafc-4fb5-89d8-d62ec94a119a",
   "metadata": {},
   "outputs": [
    {
     "data": {
      "text/plain": [
       "Country\n",
       "Djibouti                     23\n",
       "Turks and Caicos Islands     21\n",
       "Sint Maarten (Dutch part)    19\n",
       "Kosovo                       18\n",
       "Faroe Islands                18\n",
       "Cayman Islands               16\n",
       "Virgin Islands               13\n",
       "CuraÃ§ao                     10\n",
       "Afghanistan                  10\n",
       "San Marino                    8\n",
       "Name: Year, dtype: int64"
      ]
     },
     "execution_count": 30,
     "metadata": {},
     "output_type": "execute_result"
    }
   ],
   "source": [
    "countries_missing_many.head(10)"
   ]
  },
  {
   "cell_type": "code",
   "execution_count": 34,
   "id": "a7843767-1ae3-42e4-a145-cc2ed6b877c3",
   "metadata": {},
   "outputs": [],
   "source": [
    "gdp_2020 = gdp_df[gdp_df[\"Year\"] == 2020][\"GDP_Per_Capita\"]"
   ]
  },
  {
   "cell_type": "code",
   "execution_count": 35,
   "id": "faaca1a1-a6bc-4a45-82a2-e6361c649e8f",
   "metadata": {},
   "outputs": [
    {
     "data": {
      "text/plain": [
       "(array([111.,  59.,  23.,  23.,  15.,   9.,   3.,   0.,   3.,   1.]),\n",
       " array([   833.92025746,  13576.18426579,  26318.44827412,  39060.71228245,\n",
       "         51802.97629078,  64545.24029911,  77287.50430744,  90029.76831577,\n",
       "        102772.0323241 , 115514.29633243, 128256.56034076]),\n",
       " <BarContainer object of 10 artists>)"
      ]
     },
     "execution_count": 35,
     "metadata": {},
     "output_type": "execute_result"
    },
    {
     "data": {
      "image/png": "[encoded data removed]",
      "text/plain": [
       "<Figure size 640x480 with 1 Axes>"
      ]
     },
     "metadata": {},
     "output_type": "display_data"
    }
   ],
   "source": [
    "plt.hist(gdp_2020)"
   ]
  },
  {
   "cell_type": "code",
   "execution_count": 38,
   "id": "d8fdb303-3413-4016-8ca4-373579565d8b",
   "metadata": {},
   "outputs": [
    {
     "data": {
      "text/plain": [
       "<Axes: xlabel='GDP_Per_Capita', ylabel='Density'>"
      ]
     },
     "execution_count": 38,
     "metadata": {},
     "output_type": "execute_result"
    },
    {
     "data": {
      "image/png": "[encoded data removed]",
      "text/plain": [
       "<Figure size 640x480 with 1 Axes>"
      ]
     },
     "metadata": {},
     "output_type": "display_data"
    }
   ],
   "source": [
    "sns.kdeplot(gdp_2020)"
   ]
  },
  {
   "cell_type": "code",
   "execution_count": 39,
   "id": "2b2e7dfa-9cbb-4fb7-9156-4a222e6be208",
   "metadata": {},
   "outputs": [
    {
     "data": {
      "text/plain": [
       "{'whiskers': [<matplotlib.lines.Line2D at 0x16e43563110>,\n",
       "  <matplotlib.lines.Line2D at 0x16e43563250>],\n",
       " 'caps': [<matplotlib.lines.Line2D at 0x16e43563390>,\n",
       "  <matplotlib.lines.Line2D at 0x16e435634d0>],\n",
       " 'boxes': [<matplotlib.lines.Line2D at 0x16e43562fd0>],\n",
       " 'medians': [<matplotlib.lines.Line2D at 0x16e43563610>],\n",
       " 'fliers': [<matplotlib.lines.Line2D at 0x16e43563750>],\n",
       " 'means': []}"
      ]
     },
     "execution_count": 39,
     "metadata": {},
     "output_type": "execute_result"
    },
    {
     "data": {
      "image/png": "[encoded data removed]",
      "text/plain": [
       "<Figure size 640x480 with 1 Axes>"
      ]
     },
     "metadata": {},
     "output_type": "display_data"
    }
   ],
   "source": [
    "plt.boxplot(gdp_2020)"
   ]
  },
  {
   "cell_type": "code",
   "execution_count": 40,
   "id": "4c764cb1-5c5f-424e-9060-7824c409a9c3",
   "metadata": {},
   "outputs": [
    {
     "data": {
      "text/plain": [
       "<Axes: ylabel='GDP_Per_Capita'>"
      ]
     },
     "execution_count": 40,
     "metadata": {},
     "output_type": "execute_result"
    },
    {
     "data": {
      "image/png": "[encoded data removed]",
      "text/plain": [
       "<Figure size 640x480 with 1 Axes>"
      ]
     },
     "metadata": {},
     "output_type": "display_data"
    }
   ],
   "source": [
    "sns.boxplot(gdp_2020)"
   ]
  },
  {
   "cell_type": "code",
   "execution_count": 41,
   "id": "d0b06b77-a242-4eb7-b548-967b72e09246",
   "metadata": {},
   "outputs": [
    {
     "data": {
      "text/plain": [
       "<Axes: ylabel='GDP_Per_Capita'>"
      ]
     },
     "execution_count": 41,
     "metadata": {},
     "output_type": "execute_result"
    },
    {
     "data": {
      "image/png": "[encoded data removed]",
      "text/plain": [
       "<Figure size 640x480 with 1 Axes>"
      ]
     },
     "metadata": {},
     "output_type": "display_data"
    }
   ],
   "source": [
    "sns.violinplot(gdp_2020)"
   ]
  },
  {
   "cell_type": "code",
   "execution_count": 46,
   "id": "6acb7236-42a1-4480-890e-b498c8394890",
   "metadata": {},
   "outputs": [
    {
     "data": {
      "text/plain": [
       "15309.23598817024"
      ]
     },
     "execution_count": 46,
     "metadata": {},
     "output_type": "execute_result"
    }
   ],
   "source": [
    "gdp_2020.median()"
   ]
  },
  {
   "cell_type": "code",
   "execution_count": 62,
   "id": "75dbbc88-d0ae-4ccf-a1d0-ea2019317759",
   "metadata": {},
   "outputs": [],
   "source": [
    "gdp_decades = gdp_df[gdp_df[\"Year\"].isin([1990, 2000, 2010, 2020])]"
   ]
  },
  {
   "cell_type": "code",
   "execution_count": 69,
   "id": "c4d6665f-438f-4f0e-8657-77bc8a5fff26",
   "metadata": {},
   "outputs": [
    {
     "data": {
      "text/plain": [
       "<Axes: xlabel='Year', ylabel='GDP_Per_Capita'>"
      ]
     },
     "execution_count": 69,
     "metadata": {},
     "output_type": "execute_result"
    },
    {
     "data": {
      "image/png": "[encoded data removed]",
      "text/plain": [
       "<Figure size 640x480 with 1 Axes>"
      ]
     },
     "metadata": {},
     "output_type": "display_data"
    }
   ],
   "source": [
    "sns.boxplot(x=\"Year\", y=\"GDP_Per_Capita\", data=gdp_decades)"
   ]
  },
  {
   "cell_type": "code",
   "execution_count": null,
   "id": "6341c661-3f7a-48cf-8df2-7caa5a353b6b",
   "metadata": {},
   "outputs": [],
   "source": []
  }
 ],
 "metadata": {
  "kernelspec": {
   "display_name": "Python [conda env:base] *",
   "language": "python",
   "name": "conda-base-py"
  },
  "language_info": {
   "codemirror_mode": {
    "name": "ipython",
    "version": 3
   },
   "file_extension": ".py",
   "mimetype": "text/x-python",
   "name": "python",
   "nbconvert_exporter": "python",
   "pygments_lexer": "ipython3",
   "version": "3.13.5"
  }
 },
 "nbformat": 4,
 "nbformat_minor": 5
}
